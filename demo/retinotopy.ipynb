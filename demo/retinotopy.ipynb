{
 "cells": [
  {
   "cell_type": "code",
   "execution_count": null,
   "metadata": {},
   "outputs": [],
   "source": [
    "%cd ../\n",
    "from IPython import get_ipython\n",
    "\n",
    "import altair as alt\n",
    "import seaborn as sns\n",
    "from src.gabor_analysis.gabor_fit import GaborFit\n",
    "from src.receptive_field.rf import ReceptiveField, gen_rf_rank_regional\n",
    "from src.spikeloader import SpikeLoader\n",
    "from src.utils.plots import gabor_interactive\n",
    "\n",
    "get_ipython().run_line_magic(\"matplotlib\", \"inline\")\n",
    "get_ipython().run_line_magic(\"config\", \"InlineBackend.figure_format='retina'\")\n",
    "sns.set()"
   ]
  },
  {
   "cell_type": "code",
   "execution_count": null,
   "metadata": {
    "tags": [
     "parameters"
    ]
   },
   "outputs": [],
   "source": [
    "path_loader = \"data/superstim_TX60_allsort.hdf5\"\n",
    "path_rf = \"data/superstim_TX60_allsort.hdf5\"\n",
    "path_gabor =\"data/superstim_TX60_allsort_gabor.hdf5\""
   ]
  },
  {
   "cell_type": "code",
   "execution_count": null,
   "metadata": {},
   "outputs": [],
   "source": [
    "f = SpikeLoader.from_hdf5(path_loader)\n",
    "rf = ReceptiveField.from_hdf5(path_rf)\n",
    "g = GaborFit.from_hdf5(path_gabor)"
   ]
  },
  {
   "cell_type": "code",
   "execution_count": null,
   "metadata": {},
   "outputs": [],
   "source": [
    "g.plot_params(f.pos)"
   ]
  },
  {
   "cell_type": "markdown",
   "metadata": {},
   "source": [
    "## Interactive Plot"
   ]
  },
  {
   "cell_type": "code",
   "execution_count": null,
   "metadata": {},
   "outputs": [],
   "source": [
    "alt.renderers.enable('mimetype')\n",
    "gabor_interactive(f, g, n_samples=500)"
   ]
  }
 ],
 "metadata": {
  "jupytext": {
   "cell_metadata_filter": "-all",
   "formats": "ipynb,py:percent",
   "main_language": "python",
   "notebook_metadata_filter": "-all"
  },
  "kernelspec": {
   "display_name": "Python 3",
   "language": "python",
   "name": "python3"
  },
  "language_info": {
   "codemirror_mode": {
    "name": "ipython",
    "version": 3
   },
   "file_extension": ".py",
   "mimetype": "text/x-python",
   "name": "python",
   "nbconvert_exporter": "python",
   "pygments_lexer": "ipython3",
   "version": "3.8.5"
  }
 },
 "nbformat": 4,
 "nbformat_minor": 4
}

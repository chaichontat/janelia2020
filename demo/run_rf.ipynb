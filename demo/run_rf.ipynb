{
 "cells": [
  {
   "cell_type": "code",
   "execution_count": null,
   "metadata": {},
   "outputs": [],
   "source": [
    "%cd ../\n",
    "\n",
    "from IPython.core.getipython import get_ipython\n",
    "\n",
    "import logging\n",
    "\n",
    "import numpy as np\n",
    "import seaborn as sns\n",
    "from src.receptive_field.rf import ReceptiveField, gen_rf_rank_regional\n",
    "from src.spikeloader import SpikeLoader\n",
    "\n",
    "sns.set()\n",
    "logging.getLogger().setLevel(logging.INFO)"
   ]
  },
  {
   "cell_type": "code",
   "execution_count": 1,
   "metadata": {
    "tags": [
     "parameters"
    ]
   },
   "outputs": [],
   "source": [
    "path_loader = \"data/superstim.hdf5\""
   ]
  },
  {
   "cell_type": "code",
   "execution_count": null,
   "metadata": {},
   "outputs": [],
   "source": [
    "loader = SpikeLoader.from_hdf5(path)\n",
    "rf = ReceptiveField(loader.img_dim, lamda=1.1)\n",
    "rf.fit_neuron(loader.imgs_stim, loader.S)\n",
    "rf.plot()\n",
    "rf.save_append(path)"
   ]
  },
  {
   "cell_type": "code",
   "execution_count": null,
   "metadata": {},
   "outputs": [],
   "source": [
    "rf_pcaed = gen_rf_rank_regional(loader, rf, xy_div=(5, 3), plot=True)\n",
    "np.save(\"data/rf_pcaed.npy\", rf_pcaed)"
   ]
  }
 ],
 "metadata": {
  "jupytext": {
   "cell_metadata_filter": "-all",
   "formats": "ipynb,py:percent",
   "main_language": "python",
   "notebook_metadata_filter": "-all"
  },
  "kernelspec": {
   "display_name": "Python 3",
   "language": "python",
   "name": "python3"
  },
  "language_info": {
   "codemirror_mode": {
    "name": "ipython",
    "version": 3
   },
   "file_extension": ".py",
   "mimetype": "text/x-python",
   "name": "python",
   "nbconvert_exporter": "python",
   "pygments_lexer": "ipython3",
   "version": "3.8.5"
  }
 },
 "nbformat": 4,
 "nbformat_minor": 4
}

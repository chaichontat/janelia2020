{
 "cells": [
  {
   "cell_type": "code",
   "execution_count": null,
   "metadata": {
    "lines_to_next_cell": 1
   },
   "outputs": [],
   "source": [
    "%cd ../\n",
    "from pathlib import Path\n",
    "\n",
    "import numpy as np\n",
    "import seaborn as sns\n",
    "from src.gabor_analysis.gabor_fit import GaborFit\n",
    "\n",
    "sns.set()"
   ]
  },
  {
   "cell_type": "code",
   "execution_count": null,
   "metadata": {
    "tags": [
     "parameters"
    ]
   },
   "outputs": [],
   "source": [
    "path_loader = \"data/superstim.hdf5\"\n",
    "path_rf_pcaed = \"data/rf_pcaed.npy\""
   ]
  },
  {
   "cell_type": "code",
   "execution_count": null,
   "metadata": {},
   "outputs": [],
   "source": [
    "rf_pcaed = np.load(path_rf_pcaed)\n",
    "\n",
    "def penalties():\n",
    "    out = np.zeros((5, 2), dtype=np.float32)\n",
    "    out[GaborFit.KEY[\"σ\"]] = (0.04, 2.0)\n",
    "    out[GaborFit.KEY[\"λ\"]] = (0.6, 0.85)\n",
    "    out[GaborFit.KEY[\"γ\"]] = (0.8, 0.5)\n",
    "    return out\n",
    "\n",
    "g = GaborFit(\n",
    "    n_pc=0,\n",
    "    optimizer={\"name\": \"adam\", \"step_size\": 2e-2},\n",
    "    params_init={\"σ\": 2, \"θ\": 0.0, \"λ\": 1.0, \"γ\": 1.5, \"φ\": 0.0, \"pos_x\": 0.0, \"pos_y\": 0.0,},\n",
    "    penalties=penalties(),\n",
    ").fit(rf_pcaed)\n",
    "g.plot()\n",
    "g.save_append(path_loader)"
   ]
  }
 ],
 "metadata": {
  "jupytext": {
   "cell_metadata_filter": "-all",
   "formats": "ipynb,py:percent",
   "main_language": "python",
   "notebook_metadata_filter": "-all"
  },
  "kernelspec": {
   "display_name": "Python 3",
   "language": "python",
   "name": "python3"
  },
  "language_info": {
   "codemirror_mode": {
    "name": "ipython",
    "version": 3
   },
   "file_extension": ".py",
   "mimetype": "text/x-python",
   "name": "python",
   "nbconvert_exporter": "python",
   "pygments_lexer": "ipython3",
   "version": "3.8.5"
  }
 },
 "nbformat": 4,
 "nbformat_minor": 4
}

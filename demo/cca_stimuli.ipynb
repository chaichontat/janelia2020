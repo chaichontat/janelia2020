{
 "cells": [
  {
   "cell_type": "code",
   "execution_count": null,
   "metadata": {},
   "outputs": [],
   "source": [
    "%cd ../\n",
    "\n",
    "import altair as alt\n",
    "import numpy as np\n",
    "import pandas as pd\n",
    "import seaborn as sns\n",
    "from scipy.stats.stats import zscore\n",
    "from src.canonical_analysis.subspace_comm import CCARepeatedStim\n",
    "from src.gabor_analysis.gabor_fit import GaborFit\n",
    "from src.power_law.subtract_spont import SubtractSpontAnalyzer\n",
    "from src.spikeloader import SpikeLoader\n",
    "\n",
    "alt.data_transformers.disable_max_rows()\n",
    "sns.set()"
   ]
  },
  {
   "cell_type": "markdown",
   "metadata": {},
   "source": [
    " ### Canonical Correlation Analysis\n",
    "\n",
    " Goal: compare the neural representations between V1 and V2\n",
    "\n",
    " Let $X$ and $Y$ be an $(n \\times p)$ matrix where $n$ is the number of stimuli and $p$ is the number of neurons.\n",
    "\n",
    " We first split the spiking data of each region into two for a comparison between intra-region and inter-region CCA. Hence, we have 3 different CCA models to fit.\n",
    "\n",
    " | $X$  |  $Y$ |\n",
    " |------|------|\n",
    " | V1-1 | V1-2 |\n",
    " | V1-1 | V2-1 |\n",
    " | V2-1 | V2-2 |\n",
    "\n",
    " Then, for each group, we split the spiking data by stimulus into train and test sets."
   ]
  },
  {
   "cell_type": "code",
   "execution_count": null,
   "metadata": {
    "tags": [
     "parameters"
    ]
   },
   "outputs": [],
   "source": [
    "path_loader = \"data/superstim_TX57.hdf5\"\n",
    "path_gabor = \"data/superstim_TX57.hdf5\""
   ]
  },
  {
   "cell_type": "code",
   "execution_count": null,
   "metadata": {},
   "outputs": [],
   "source": [
    "loader = SpikeLoader.from_hdf5(path_loader)\n",
    "gabor = GaborFit.from_hdf5(path_gabor)"
   ]
  },
  {
   "cell_type": "code",
   "execution_count": null,
   "metadata": {
    "lines_to_next_cell": 1
   },
   "outputs": [],
   "source": [
    "idx_spont = loader.idx_spont\n",
    "spks = zscore(loader.spks, axis=0)\n",
    "spks_nospont = SubtractSpontAnalyzer(128).fit(spks, loader.idx_spont).transform(spks)"
   ]
  },
  {
   "cell_type": "code",
   "execution_count": null,
   "metadata": {},
   "outputs": [],
   "source": [
    "def prepare_df(df_all: pd.DataFrame):\n",
    "    df_all = df_all.copy()\n",
    "    df_all[\"region\"] = \"brain\"\n",
    "\n",
    "    def checkerboard(item: pd.Series):\n",
    "        if ((item.x // 100) + (item.y // 100)) % 2 == 0:\n",
    "            return 0\n",
    "        else:\n",
    "            return 1\n",
    "\n",
    "    df_all[\"group\"] = df_all.apply(checkerboard, axis=1).astype(\"category\")\n",
    "\n",
    "    # df_all[\"group\"] = 0\n",
    "    # df_all.loc[df_all.sample(frac=0.5, replace=False).index, \"group\"] = 1\n",
    "    # df_all[\"group\"] = df_all[\"group\"].astype(\"category\")\n",
    "    return df_all\n",
    "\n",
    "\n",
    "regions = {\"brain\": (dict(group=0), dict(group=1))}\n",
    "\n",
    "cr = CCARepeatedStim(loader, gabor, prepare_df=prepare_df, regions=regions)"
   ]
  },
  {
   "cell_type": "code",
   "execution_count": null,
   "metadata": {},
   "outputs": [],
   "source": [
    "ns_train = [20000]\n",
    "rep, no_rep = loader.get_idx_rep(return_onetimers=True)\n",
    "with cr.set_spks_source(spks_nospont[loader.istim.index, :]):\n",
    "    df_un = cr.calc_cr(ns_train, idx_train=no_rep)"
   ]
  },
  {
   "cell_type": "code",
   "execution_count": null,
   "metadata": {
    "lines_to_next_cell": 1
   },
   "outputs": [],
   "source": [
    "n_rep = loader.get_idx_rep().shape[0]\n",
    "rand = np.random.default_rng(42)\n",
    "\n",
    "with cr.set_spks_source(spks_nospont):\n",
    "    innerprod_between_tests = [\n",
    "        cr.calc_innerprod_test(\n",
    "            df_un,\n",
    "            idxs_test={\n",
    "                \"rep1\": cr.loader.get_idx_rep(stim_idx=False)[:, 0],\n",
    "                \"rep2\": cr.loader.get_idx_rep(stim_idx=False)[:, 1],\n",
    "                \"scrambled\": rand.choice(np.arange(len(cr.S)), size=n_rep, replace=False),\n",
    "                \"spont\": cr.loader.idx_spont[:n_rep],\n",
    "            },\n",
    "            pairs=[\n",
    "                (\"rep1\", \"rep1\"),\n",
    "                (\"rep1\", \"rep2\"),\n",
    "                (\"rep2\", \"rep2\"),\n",
    "                (\"scrambled\", \"scrambled\"),\n",
    "                (\"rep1\", \"scrambled\"),\n",
    "                (\"spont\", \"spont\"),\n",
    "                (\"rep1\", \"spont\"),\n",
    "            ],\n",
    "            normalize=boo,\n",
    "        )\n",
    "        for boo in [True, False]\n",
    "    ]"
   ]
  },
  {
   "cell_type": "code",
   "execution_count": null,
   "metadata": {},
   "outputs": [],
   "source": [
    "def gen_chart(data: pd.DataFrame) -> alt.Chart:\n",
    "    y = \"cov\" if \"cov\" in data.columns else \"corr\"\n",
    "    selection = alt.selection_multi(fields=[\"match\"], bind=\"legend\")\n",
    "    base = alt.Chart(data).encode(x=\"dimension\", y=y, color=\"match\",)\n",
    "\n",
    "    return (\n",
    "        base.mark_line()\n",
    "        .encode(\n",
    "            size=alt.condition(~selection, alt.value(1), alt.value(2)),\n",
    "            opacity=alt.condition(~selection, alt.value(0.4), alt.value(1)),\n",
    "            row=\"n:N\",\n",
    "        )\n",
    "        .properties(width=200, height=250)\n",
    "        .add_selection(selection)\n",
    "    )\n",
    "\n",
    "gen_chart(innerprod_between_tests[0]) | gen_chart(innerprod_between_tests[1])"
   ]
  },
  {
   "cell_type": "code",
   "execution_count": null,
   "metadata": {},
   "outputs": [],
   "source": [
    "\n",
    "# sns.FacetGrid(\n",
    "#     data=df_transformed[df_transformed[\"stim\"].isin(rand.integers(low=0, high=n_rep, size=15))],\n",
    "#     col=\"stim\",\n",
    "#     col_wrap=5,\n",
    "# ).map(\n",
    "#     sns.regplot, \"rep1\", \"rep2\", scatter_kws={\"s\": 1, \"alpha\": 0.5},\n",
    "# )\n",
    "# sns.regplot(\n",
    "#     \"rep1\",\n",
    "#     \"rep2\",\n",
    "#     data=df_transformed[df_transformed.stim == 0],\n",
    "#     ax=ax,\n",
    "#     scatter_kws={\"s\": 1, \"alpha\": 0.5},\n",
    "# )\n",
    "# ax.set_aspect(\"equal\")"
   ]
  }
 ],
 "metadata": {
  "jupytext": {
   "cell_metadata_filter": "-all",
   "formats": "ipynb,py:percent",
   "main_language": "python",
   "notebook_metadata_filter": "-all"
  },
  "kernelspec": {
   "display_name": "Python 3",
   "language": "python",
   "name": "python3"
  },
  "language_info": {
   "codemirror_mode": {
    "name": "ipython",
    "version": 3
   },
   "file_extension": ".py",
   "mimetype": "text/x-python",
   "name": "python",
   "nbconvert_exporter": "python",
   "pygments_lexer": "ipython3",
   "version": "3.8.5"
  }
 },
 "nbformat": 4,
 "nbformat_minor": 4
}

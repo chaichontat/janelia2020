{
 "cells": [
  {
   "cell_type": "markdown",
   "metadata": {},
   "source": [
    "# Preprocess and Sanity Check"
   ]
  },
  {
   "cell_type": "code",
   "execution_count": null,
   "metadata": {},
   "outputs": [],
   "source": [
    "%cd ../\n",
    "\n",
    "from IPython.core.getipython import get_ipython\n",
    "\n",
    "import logging\n",
    "from pathlib import Path\n",
    "\n",
    "import matplotlib.pyplot as plt\n",
    "import numpy as np\n",
    "import seaborn as sns\n",
    "from scripts.subspace_comm import CCARegions\n",
    "from src.spikeloader import SpikeLoader\n",
    "\n",
    "sns.set()\n",
    "get_ipython().run_line_magic(\"config\", \"InlineBackend.figure_format='retina'\")"
   ]
  },
  {
   "cell_type": "code",
   "execution_count": null,
   "metadata": {},
   "outputs": [],
   "source": [
    "# logging.getLogger().setLevel(logging.INFO)\n",
    "path = \"data/superstim.npz\""
   ]
  },
  {
   "cell_type": "code",
   "execution_count": null,
   "metadata": {},
   "outputs": [],
   "source": [
    "if Path(out_file := f\"{Path(path).parent / Path(path).stem}.hdf5\").exists():\n",
    "    logging.info(\"HDF5 exists, loading.\")\n",
    "    loader = SpikeLoader.from_hdf5(out_file)\n",
    "else:\n",
    "    logging.info(\"Reading from npz.\")\n",
    "    loader = SpikeLoader.from_npz(path)\n",
    "    logging.info(\"Saving to HDF5.\")\n",
    "    loader.save(out_file)"
   ]
  },
  {
   "cell_type": "code",
   "execution_count": null,
   "metadata": {},
   "outputs": [],
   "source": [
    "fig, ax = plt.subplots()\n",
    "ax.scatter(loader.pos.x, loader.pos.y, s=0.5, alpha=0.2)\n",
    "ax.set_aspect(\"equal\")"
   ]
  },
  {
   "cell_type": "code",
   "execution_count": null,
   "metadata": {
    "lines_to_next_cell": 1
   },
   "outputs": [],
   "source": [
    "print(f\"(Stim x Neu): {loader.spks.shape}\")\n",
    "print(f\"Number of spont frames: {loader.idx_spont.size}\")\n",
    "print(f\"Repeated stims: {loader.get_idx_rep().shape}\")"
   ]
  },
  {
   "cell_type": "markdown",
   "metadata": {},
   "source": [
    "### Correlations between the spiking responses of repeated and non-repeated stimuli."
   ]
  },
  {
   "cell_type": "code",
   "execution_count": null,
   "metadata": {},
   "outputs": [],
   "source": [
    "def corr_check(idx1, idx2, name):\n",
    "    corr = CCARegions.pairwise_inner_prod(loader.S[idx1, :], loader.S[idx2, :], normalize=True)\n",
    "    ax = sns.distplot(corr, label=name)\n",
    "    ax.set_title(\"Correlations between stim\")\n",
    "    ax.set_xlabel(\"Pearson\\'s $r$\")\n",
    "    return ax\n",
    "\n",
    "\n",
    "rep = loader.get_idx_rep()\n",
    "corr_check(rep[:1000, 0], rep[:1000, 1], \"Repeat\")\n",
    "corr_check(np.arange(1000), np.arange(1000, 2000), \"Non-repeat\")\n",
    "plt.legend()"
   ]
  },
  {
   "cell_type": "code",
   "execution_count": null,
   "metadata": {},
   "outputs": [],
   "source": []
  }
 ],
 "metadata": {
  "jupytext": {
   "cell_metadata_filter": "-all",
   "main_language": "python",
   "notebook_metadata_filter": "-all"
  },
  "kernelspec": {
   "display_name": "Python 3",
   "language": "python",
   "name": "python3"
  },
  "language_info": {
   "codemirror_mode": {
    "name": "ipython",
    "version": 3
   },
   "file_extension": ".py",
   "mimetype": "text/x-python",
   "name": "python",
   "nbconvert_exporter": "python",
   "pygments_lexer": "ipython3",
   "version": "3.8.5"
  }
 },
 "nbformat": 4,
 "nbformat_minor": 4
}

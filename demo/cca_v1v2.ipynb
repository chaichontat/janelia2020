{
 "cells": [
  {
   "cell_type": "code",
   "execution_count": null,
   "metadata": {},
   "outputs": [],
   "source": [
    "%cd ../\n",
    "\n",
    "from IPython import get_ipython\n",
    "get_ipython().run_line_magic(\"config\", \"InlineBackend.figure_format='retina'\")\n",
    "\n",
    "import altair as alt\n",
    "import matplotlib.pyplot as plt\n",
    "import numpy as np\n",
    "import pandas as pd\n",
    "import seaborn as sns\n",
    "\n",
    "from scripts.subspace_comm import CCARepeatedStim\n",
    "from src.gabor_analysis.gabor_fit import GaborFit\n",
    "from src.power_law_rdm.subtract_spont import SubtractSpontAnalyzer\n",
    "from src.spikeloader import SpikeLoader\n",
    "\n",
    "alt.data_transformers.disable_max_rows()\n",
    "sns.set()"
   ]
  },
  {
   "cell_type": "markdown",
   "metadata": {},
   "source": [
    " ### Canonical Correlation Analysis\n",
    "\n",
    " Goal: compare the neural representations between V1 and V2\n",
    "\n",
    " Let $X$ and $Y$ be an $(n \\times p)$ matrix where $n$ is the number of stimuli and $p$ is the number of neurons.\n",
    "\n",
    " We first split the spiking data of each region into two for a comparison between intra-region and inter-region CCA. Hence, we have 3 different CCA models to fit.\n",
    "\n",
    " | $X$ | $Y$ |\n",
    " |------|------|\n",
    " | V1-1 | V1-2 |\n",
    " | V1-1 | V2-1 |\n",
    " | V2-1 | V2-2 |\n",
    "\n",
    " Then, for each group, we split the spiking data by stimulus into train and test sets."
   ]
  },
  {
   "cell_type": "code",
   "execution_count": null,
   "metadata": {
    "tags": [
     "parameters"
    ]
   },
   "outputs": [],
   "source": [
    "path_loader = \"data/superstim.hdf5\"\n",
    "path_gabor = \"data/superstim.hdf5\""
   ]
  },
  {
   "cell_type": "code",
   "execution_count": null,
   "metadata": {},
   "outputs": [],
   "source": [
    "cr = CCARepeatedStim(\n",
    "    loader := SpikeLoader.from_hdf5(path_loader),\n",
    "    gabor := GaborFit.from_hdf5(path_gabor),\n",
    ")\n",
    "n_train = [500, 1000, 2000, 5000, 10000]"
   ]
  },
  {
   "cell_type": "code",
   "execution_count": null,
   "metadata": {
    "lines_to_next_cell": 1
   },
   "outputs": [],
   "source": [
    "sns.pairplot(\n",
    "    cr.df,\n",
    "    hue=\"region\",\n",
    "    vars=[\"x\", \"y\", \"σ\", \"azimuth\", \"altitude\"],\n",
    "    corner=True,\n",
    "    plot_kws=dict(s=4, linewidth=0, alpha=0.3),\n",
    ")"
   ]
  },
  {
   "cell_type": "markdown",
   "metadata": {},
   "source": [
    "There is a sharp increase in sampled neuron at the V1-V2 boundary. This is due to the fact that V1 neurons outnumber V2 neurons by 60%. Furthermore, the azimuthal preferences of V2 neurons extend include more of the lateral visual field, reducing the number of potential matches with V1.\n",
    "\n",
    "We perform CCA with an 80:20 train:test stimuli split with various numbers of training stimuli."
   ]
  },
  {
   "cell_type": "code",
   "execution_count": null,
   "metadata": {},
   "outputs": [],
   "source": [
    "def gen_chart(data: pd.DataFrame) -> alt.Chart:\n",
    "    return (\n",
    "        alt.Chart(data[data.split == \"test\"])\n",
    "        .mark_line(opacity=0.5)\n",
    "        .encode(\n",
    "            x=alt.X(\"dimension:Q\"),  # , scale=alt.Scale(domain=xlim)),\n",
    "            y=alt.Y(\"coef:Q\"),  # , scale=alt.Scale(domain=ylim)),\n",
    "            color=\"n:N\",\n",
    "            column=alt.Column(\"regions:N\"),\n",
    "        )\n",
    "    ).properties(width=200, height=300)\n",
    "\n",
    "df_rand = cr.run_random_splits(ns=n_train)\n",
    "gen_chart(df_rand).properties(title=(\"Inter- and Intra-region Canonical Coefficients\"))"
   ]
  },
  {
   "cell_type": "markdown",
   "metadata": {},
   "source": [
    "The test set now contains responses from the second repeat of the repeated stimuli. Here, we test whether the presence of the responses to an identical set of stimuli in the training set would affect the results."
   ]
  },
  {
   "cell_type": "code",
   "execution_count": null,
   "metadata": {},
   "outputs": [],
   "source": [
    "df_repeated = cr.run_repeated_splits(ns_train=n_train)\n",
    "gen_chart(df_repeated[df_repeated.split == \"test\"]).encode(\n",
    "    alt.Row(\"test_stim_in_train\")\n",
    ").properties(title=(\"Canonical Coefficients: Repeated Stimuli\"), height=200)"
   ]
  },
  {
   "cell_type": "markdown",
   "metadata": {},
   "source": [
    "### Verify Train/Test Split\n",
    "First, we check if the indices are correct."
   ]
  },
  {
   "cell_type": "code",
   "execution_count": null,
   "metadata": {},
   "outputs": [],
   "source": [
    "df_corr = cr.calc_repeated_corr(n=2000)\n",
    "sns.FacetGrid(df_corr, col=\"regions\", row=\"group\", hue=\"test_stim_in_train\").map(\n",
    "    plt.hist, \"corr\", alpha=0.6\n",
    ")"
   ]
  },
  {
   "cell_type": "markdown",
   "metadata": {},
   "source": [
    "How does training on an unrelated stimuli affect things?"
   ]
  },
  {
   "cell_type": "code",
   "execution_count": null,
   "metadata": {},
   "outputs": [],
   "source": [
    "rep, no_rep = loader.get_idx_rep(return_onetimers=True)\n",
    "df_un = cr.calc_cr(ns_train=[10000], idx_train=no_rep)\n",
    "corr_between_tests = cr.calc_innerprod_test(\n",
    "    df_un,\n",
    "    idxs_test={\n",
    "        \"rep1\": cr.loader.get_idx_rep(stim_idx=False)[:, 0],\n",
    "        \"rep2\": cr.loader.get_idx_rep(stim_idx=False)[:, 1],\n",
    "        \"ctrl\": cr.loader.istim.iloc[range(2141)],\n",
    "        \"spont\": cr.loader.idx_spont[:2141],\n",
    "    },\n",
    "    pairs=[\n",
    "        (\"rep1\", \"rep1\"),\n",
    "        (\"rep1\", \"rep2\"),\n",
    "        (\"ctrl\", \"ctrl\"),\n",
    "        (\"rep1\", \"ctrl\"),\n",
    "        (\"spont\", \"spont\"),\n",
    "        (\"rep1\", \"spont\"),\n",
    "    ],\n",
    "    stim_idx=False,\n",
    "    normalize=True\n",
    ")"
   ]
  },
  {
   "cell_type": "markdown",
   "metadata": {},
   "source": [
    "Here, we generate canonical vectors from all unrepeated stimuli. These are then used to separately generate canonical variates for the repeated stimuli. We then calculate the correlation (canonical coefficient) within and between repeats."
   ]
  },
  {
   "cell_type": "code",
   "execution_count": null,
   "metadata": {},
   "outputs": [],
   "source": [
    "corr_between_tests['compare_type'] = np.where(corr_between_tests['match'].isin(['ctrl_ctrl', 'rep1_rep1', 'spont_spont']), 'same', 'different')\n",
    "\n",
    "selection = alt.selection_multi(fields=[\"match\"], bind=\"legend\")\n",
    "\n",
    "base = alt.Chart(corr_between_tests[corr_between_tests.n > 2000]).encode(\n",
    "    x=\"dimension\", y=\"corr\", color=\"match\",\n",
    ")\n",
    "\n",
    "base.mark_line().encode(\n",
    "    strokeDash=alt.StrokeDash(\"compare_type\", sort=\"descending\"),\n",
    "    size=alt.condition(~selection, alt.value(1), alt.value(2)),\n",
    "    opacity=alt.condition(~selection, alt.value(0.4), alt.value(1)),\n",
    "    column=\"regions\",\n",
    "    row=\"n:N\",\n",
    ").properties(width=200, height=250).add_selection(selection)"
   ]
  },
  {
   "cell_type": "markdown",
   "metadata": {},
   "source": [
    "The same analysis, with spontaneous activities subtracted."
   ]
  },
  {
   "cell_type": "code",
   "execution_count": null,
   "metadata": {},
   "outputs": [],
   "source": [
    "spks_nospont = SubtractSpontAnalyzer(128).fit(loader.spks, loader.idx_spont).transform(loader.spks)\n",
    "with cr.set_spks_source(spks_nospont[loader.istim.index, :]):\n",
    "    df_un = cr.calc_cr([5000, 10000], no_rep)"
   ]
  },
  {
   "cell_type": "code",
   "execution_count": null,
   "metadata": {
    "lines_to_next_cell": 2
   },
   "outputs": [],
   "source": [
    "with cr.set_spks_source(spks_nospont):\n",
    "    corr_between_tests = cr.calc_innerprod_test(\n",
    "        df_un,\n",
    "        idxs_test={\n",
    "            \"rep1\": cr.loader.get_idx_rep(stim_idx=False)[:, 0],\n",
    "            \"rep2\": cr.loader.get_idx_rep(stim_idx=False)[:, 1],\n",
    "            \"ctrl\": cr.loader.istim.iloc[range(2141)],\n",
    "            \"spont\": cr.loader.idx_spont[:2141],\n",
    "        },\n",
    "        pairs=[\n",
    "            (\"rep1\", \"rep1\"),\n",
    "            (\"rep1\", \"rep2\"),\n",
    "            (\"ctrl\", \"ctrl\"),\n",
    "            (\"rep1\", \"ctrl\"),\n",
    "            (\"spont\", \"spont\"),\n",
    "            (\"rep1\", \"spont\"),\n",
    "        ],\n",
    "    )"
   ]
  },
  {
   "cell_type": "code",
   "execution_count": null,
   "metadata": {},
   "outputs": [],
   "source": [
    "corr_between_tests['compare_type'] = np.where(corr_between_tests['match'].isin(['ctrl_ctrl', 'rep1_rep1', 'spont_spont']), 'same', 'different')\n",
    "\n",
    "selection = alt.selection_multi(fields=[\"match\"], bind=\"legend\")\n",
    "\n",
    "base = alt.Chart(corr_between_tests[corr_between_tests.n > 2000]).encode(\n",
    "    x=\"dimension\", y=\"corr\", color=\"match\",\n",
    ")\n",
    "\n",
    "base.mark_line().encode(\n",
    "    strokeDash=alt.StrokeDash(\"compare_type\", sort=\"descending\"),\n",
    "    size=alt.condition(~selection, alt.value(1), alt.value(2)),\n",
    "    opacity=alt.condition(~selection, alt.value(0.4), alt.value(1)),\n",
    "    column=\"regions\",\n",
    "    row=\"n:N\",\n",
    ").properties(width=200, height=250).add_selection(selection)"
   ]
  }
 ],
 "metadata": {
  "jupytext": {
   "cell_metadata_filter": "-all",
   "formats": "ipynb,py:percent",
   "main_language": "python",
   "notebook_metadata_filter": "-all"
  },
  "kernelspec": {
   "display_name": "Python 3",
   "language": "python",
   "name": "python3"
  },
  "language_info": {
   "codemirror_mode": {
    "name": "ipython",
    "version": 3
   },
   "file_extension": ".py",
   "mimetype": "text/x-python",
   "name": "python",
   "nbconvert_exporter": "python",
   "pygments_lexer": "ipython3",
   "version": "3.8.5"
  }
 },
 "nbformat": 4,
 "nbformat_minor": 4
}

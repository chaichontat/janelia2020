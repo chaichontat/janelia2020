{
 "cells": [
  {
   "cell_type": "code",
   "execution_count": null,
   "metadata": {
    "collapsed": false,
    "jupyter": {
     "outputs_hidden": false
    },
    "pycharm": {
     "name": "#%%\n"
    }
   },
   "outputs": [],
   "source": [
    "%cd ..\n",
    "\n",
    "import matplotlib.axes._axes as axes\n",
    "import matplotlib.pyplot as plt\n",
    "import numpy as np\n",
    "import pandas as pd\n",
    "import seaborn as sns\n",
    "from mpl_toolkits.axes_grid1 import make_axes_locatable\n",
    "\n",
    "from src.gabor_analysis.gabor_fit import GaborFit\n",
    "from src.spikeloader import SpikeLoader\n",
    "\n",
    "sns.set()\n",
    "sns.set_style('white')"
   ]
  },
  {
   "cell_type": "code",
   "execution_count": null,
   "metadata": {
    "collapsed": false,
    "jupyter": {
     "outputs_hidden": false
    },
    "pycharm": {
     "name": "#%% Load Data\n"
    }
   },
   "outputs": [],
   "source": [
    "f = SpikeLoader.from_hdf5('data/processed.hdf5')\n",
    "g = GaborFit.from_hdf5('data/gabor.hdf5')\n",
    "deg = 2.5"
   ]
  },
  {
   "cell_type": "code",
   "execution_count": null,
   "metadata": {
    "collapsed": false,
    "jupyter": {
     "outputs_hidden": false
    },
    "pycharm": {
     "name": "#%% xy-plane vs all params.\n"
    }
   },
   "outputs": [],
   "source": [
    "fig, axs = plt.subplots(ncols=4, nrows=2, figsize=(18, 10))\n",
    "axs = axs.flatten()\n",
    "cmap = 'twilight_shifted'\n",
    "\n",
    "for i, name in enumerate(GaborFit.KEY.keys()):\n",
    "    u = axs[i].scatter(f.pos['x'], f.pos['y'], s=2 * g.corr, c=deg * g.params_fit[:, i], cmap=cmap, alpha=0.9)\n",
    "    axs[i].grid(0)\n",
    "    axs[i].set_title(name)\n",
    "    axs[i].set_aspect('equal')\n",
    "    divider = make_axes_locatable(axs[i])\n",
    "    cax = divider.append_axes(\"right\", size=\"4%\", pad=0.1, )\n",
    "    fig.colorbar(u, cax=cax,)\n",
    "\n",
    "fig.delaxes(axs[-1])\n",
    "fig.suptitle('Params from Gabor fit of 60 PCs RF.')\n",
    "plt.tight_layout()\n",
    "plt.show()"
   ]
  },
  {
   "cell_type": "code",
   "execution_count": null,
   "metadata": {
    "collapsed": false,
    "jupyter": {
     "outputs_hidden": false
    },
    "pycharm": {
     "name": "#%%\n"
    }
   },
   "outputs": [],
   "source": [
    "def plot_scatter(ax, p, title):\n",
    "    sns.set_style('whitegrid')\n",
    "    scale = np.max(np.abs(p))\n",
    "    u = ax.scatter(x := -np.array(f.pos['y'], dtype=np.int16), y := np.array(f.pos['x'], dtype=np.int16),\n",
    "                   s=10 * g.corr, c=p, linewidth=0,\n",
    "                   cmap=cmap, alpha=0.8, vmin=-scale, vmax=scale)\n",
    "    ax.grid(0)\n",
    "    ax.set_aspect('equal')\n",
    "    ax.set_xlabel('Brain $y$ ($\\mathrm{\\mu}$m)')\n",
    "    ax.set_ylabel('Brain $x$ ($\\mathrm{\\mu}$m)')\n",
    "    ax.set_xlim([np.max(x), np.min(x)])\n",
    "    ax.set_ylim([np.min(y), np.max(y)])\n",
    "    ax.set_ylim(ax.get_ylim()[::-1])\n",
    "\n",
    "    for spine in ax.spines.values():\n",
    "        spine.set_visible(False)\n",
    "\n",
    "    divider = make_axes_locatable(ax)\n",
    "    if title == 'Altitude':\n",
    "        cax = divider.append_axes(\"right\", size=\"4%\", pad=0.1, )\n",
    "        cbar = fig.colorbar(u, cax=cax, )\n",
    "        cbar.ax.set_ylabel('Altitude (deg)', rotation=270, fontweight='bold', fontsize='large', labelpad=12)\n",
    "\n",
    "    else:\n",
    "        cax = divider.append_axes(\"bottom\", size=\"4%\", pad=0.1, )\n",
    "        cbar = fig.colorbar(u, cax=cax, orientation='horizontal')\n",
    "        cbar.ax.set_xlabel('Azimuth (deg)', fontweight='bold', fontsize='large', labelpad=10)\n",
    "\n",
    "        ax.xaxis.set_ticks_position('top')\n",
    "        ax.tick_params(color='white')\n",
    "        ax.xaxis.set_label_position('top')\n",
    "        ax.xaxis.set_label_coords(0.5, 1.1)  # 1 is top, right\n",
    "\n",
    "    cbar.outline.set_visible(False)\n",
    "\n",
    "\n",
    "fig, ax = plt.subplots(figsize=(6, 6))\n",
    "plot_scatter(ax, deg * g.params_fit[:, -1], 'Altitude')\n",
    "plt.tight_layout()\n",
    "plt.show()\n",
    "\n",
    "fig, ax = plt.subplots(figsize=(6, 6))\n",
    "plot_scatter(ax, deg * -g.params_fit[:, -2], 'Azimuth')\n",
    "plt.tight_layout()\n",
    "plt.show()\n"
   ]
  },
  {
   "cell_type": "code",
   "execution_count": null,
   "metadata": {
    "collapsed": false,
    "jupyter": {
     "outputs_hidden": false
    },
    "pycharm": {
     "name": "#%% Hex plots vs y-pos.\n"
    }
   },
   "outputs": [],
   "source": [
    "def make_hexplot(var, name, axis, title=None, save=None, line=False):\n",
    "    with sns.color_palette('colorblind', desat=0.95):\n",
    "        df = pd.DataFrame([f.pos[axis], var]).T\n",
    "        df.columns = [f'Brain ${axis}$ ($\\mathrm{{\\mu}}$m)', name]\n",
    "        g = sns.jointplot(data=df, x=df.columns[0], y=df.columns[1], kind='hex')\n",
    "        g.fig.suptitle(title)\n",
    "\n",
    "        for sp in g.ax_joint.spines.values():\n",
    "            sp.set_visible(False)\n",
    "\n",
    "        g.ax_joint.set_ylabel(name, fontweight='bold', fontsize='large')\n",
    "\n",
    "        ax: axes.Axes\n",
    "        for ax in [g.ax_marg_x, g.ax_marg_y]:\n",
    "            for sp in ax.spines.values():\n",
    "                sp.set_alpha(0.15)\n",
    "\n",
    "        if line:\n",
    "            ax = g.ax_joint\n",
    "            ax.axhline(color='black', alpha=0.4)\n",
    "\n",
    "        if save:\n",
    "            plt.savefig(save)\n",
    "        plt.tight_layout(rect=[0, 0, 1, 0.96])\n",
    "        plt.show()\n",
    "\n",
    "\n",
    "make_hexplot(g.params_fit[:, 0], 'σ', 'y', 'Size of Gabor Fit (σ) vs brain $y$')\n",
    "make_hexplot(deg * g.params_fit[:, -1], 'Gabor Altitude (deg)', 'y', 'Retinotopic altitude of Gabor fit vs brain $y$',\n",
    "             line=True)\n",
    "make_hexplot(deg * g.params_fit[:, -2], 'Gabor Azimuth (deg)', 'y', 'Retinotopic azimuth of Gabor fit vs brain $y$',\n",
    "             line=True)\n",
    "make_hexplot(g.corr, 'Gabor Fit Correlation', 'y', 'Gabor fit correlation with RF vs physical y-pos')\n"
   ]
  }
 ],
 "metadata": {
  "kernelspec": {
   "display_name": "Python 3",
   "language": "python",
   "name": "python3"
  },
  "language_info": {
   "codemirror_mode": {
    "name": "ipython",
    "version": 3
   },
   "file_extension": ".py",
   "mimetype": "text/x-python",
   "name": "python",
   "nbconvert_exporter": "python",
   "pygments_lexer": "ipython3",
   "version": "3.8.3"
  }
 },
 "nbformat": 4,
 "nbformat_minor": 4
}

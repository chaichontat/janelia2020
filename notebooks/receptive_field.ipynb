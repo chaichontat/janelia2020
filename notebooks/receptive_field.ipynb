{
 "cells": [
  {
   "cell_type": "markdown",
   "metadata": {},
   "source": [
    "# Receptive Field and Gabor Fitting\n",
    "\n",
    "We first load the data."
   ]
  },
  {
   "cell_type": "code",
   "execution_count": null,
   "metadata": {},
   "outputs": [],
   "source": [
    "%cd ..\n",
    "\n",
    "import matplotlib.pyplot as plt\n",
    "import numpy as np\n",
    "import seaborn as sns\n",
    "\n",
    "from src.receptive_field.rf import ReceptiveField\n",
    "from src.spikeloader import SpikeLoader\n",
    "\n",
    "%matplotlib inline\n",
    "%config InlineBackend.figure_format='retina'\n",
    "sns.set()"
   ]
  },
  {
   "cell_type": "code",
   "execution_count": null,
   "metadata": {
    "tags": [
     "parameters"
    ]
   },
   "outputs": [],
   "source": [
    "path = 'data/superstim32.npz'"
   ]
  },
  {
   "cell_type": "code",
   "execution_count": null,
   "metadata": {},
   "outputs": [],
   "source": [
    "s = SpikeLoader.from_npz(path=path, img_scale=1)\n",
    "fig, axs = plt.subplots(nrows=4, ncols=4, figsize=(8, 5), constrained_layout=True)\n",
    "axs = axs.flatten()\n",
    "\n",
    "idx = np.random.RandomState(344).choice(np.arange(s.imgs.shape[0]), len(axs))\n",
    "for i, ax in enumerate(axs):\n",
    "    ax.imshow(s.imgs[idx[i]], cmap='gray')\n",
    "    ax.grid(0)\n",
    "    ax.axis('off')\n",
    "fig.suptitle('Example Images')"
   ]
  },
  {
   "cell_type": "markdown",
   "metadata": {},
   "source": [
    "### Generate RFs for the first 50 principal components."
   ]
  },
  {
   "cell_type": "code",
   "execution_count": null,
   "metadata": {
    "collapsed": false,
    "jupyter": {
     "outputs_hidden": false
    },
    "pycharm": {
     "name": "#%%\n"
    }
   },
   "outputs": [],
   "source": [
    "loader = SpikeLoader.from_npz(path, img_scale=0.25)\n",
    "rf = ReceptiveField(loader.img_dim)\n",
    "B = rf.fit_pc(loader.imgs_stim, loader.S, n_pc=30)\n",
    "rf.plot(dpi=None)"
   ]
  },
  {
   "cell_type": "markdown",
   "metadata": {},
   "source": [
    "### Generate RFs for every neuron."
   ]
  },
  {
   "cell_type": "code",
   "execution_count": null,
   "metadata": {
    "pycharm": {
     "name": "#%%\n"
    }
   },
   "outputs": [],
   "source": [
    "rf = ReceptiveField(loader.img_dim)\n",
    "B = rf.fit_neuron(loader.imgs_stim, loader.S)\n",
    "rf.plot(dpi=None, random=True)"
   ]
  }
 ],
 "metadata": {
  "kernelspec": {
   "display_name": "Python 3",
   "language": "python",
   "name": "python3"
  },
  "language_info": {
   "codemirror_mode": {
    "name": "ipython",
    "version": 3
   },
   "file_extension": ".py",
   "mimetype": "text/x-python",
   "name": "python",
   "nbconvert_exporter": "python",
   "pygments_lexer": "ipython3",
   "version": "3.8.3"
  }
 },
 "nbformat": 4,
 "nbformat_minor": 4
}
